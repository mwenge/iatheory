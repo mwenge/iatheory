{
 "cells": [
  {
   "cell_type": "markdown",
   "id": "9dace4cb",
   "metadata": {},
   "source": [
    "# Embed an executable in the final PDF"
   ]
  },
  {
   "cell_type": "code",
   "execution_count": 44,
   "id": "33a8daec",
   "metadata": {},
   "outputs": [
    {
     "data": {
      "text/plain": [
       "656"
      ]
     },
     "execution_count": 44,
     "metadata": {},
     "output_type": "execute_result"
    }
   ],
   "source": [
    "0x290"
   ]
  },
  {
   "cell_type": "markdown",
   "id": "c9f9e82a",
   "metadata": {},
   "source": [
    "For now it's just a 'hello world' but hopefully I can get an executable with the C64 edition of Psychedelia embedded in the PDF. That way you can both read the PDF and also use it run and play the game like so:\n",
    "\n",
    "```bash\n",
    "./psychedelia_syndrome_exe.pdf\n",
    "```"
   ]
  },
  {
   "cell_type": "markdown",
   "id": "6e627f4b",
   "metadata": {},
   "source": [
    "Create a placeholder file called `src/include_exe.tex` for the xetex build. This will reserve the bytes at the top of the PDF where we will inject our executable directly into the PDF file it builds."
   ]
  },
  {
   "cell_type": "code",
   "execution_count": 2,
   "id": "8a779696",
   "metadata": {},
   "outputs": [],
   "source": [
    "import os\n",
    "EXE_OFFSET = 0x290\n",
    "LINE_WIDTH = 80\n",
    "stream_len = os.stat(\"iridisalpha.exe\").st_size - EXE_OFFSET\n",
    "length_len = len(str(stream_len))\n",
    "\n",
    "TEX = \"\"\"\\pdfobjcompresslevel=0\n",
    "\\immediate\n",
    "\\pdfobj\n",
    "{{\n",
    "<<\n",
    "/Length {}\n",
    ">>\n",
    "stream\n",
    "{}\n",
    "{}\n",
    "endstream\n",
    "}}%\n",
    "\"\"\"\n",
    "\n",
    "# Hardcoded unfortunately, so inspect the pdf file in case it changes.\n",
    "PDF_PREFIX = \"\"\"%PDF-1.5\n",
    "%ÐÔÅØ\n",
    "1 0 obj\n",
    " << /Length {} >> stream\"\"\"\n",
    "\n",
    "texfile = open('../src/include_exe.tex','w')\n",
    "\n",
    "prefix_size = (len(PDF_PREFIX) - 2) + length_len\n",
    "stream_len_for_prefix = stream_len - prefix_size\n",
    "\n",
    "texfile.write(TEX.format(stream_len_for_prefix,\n",
    "                        '\\n'.join([\"0\" * (LINE_WIDTH-1)] * int(stream_len/LINE_WIDTH)),\n",
    "                         \"0\" * (stream_len % LINE_WIDTH)\n",
    "                        ))\n",
    "texfile.close()"
   ]
  },
  {
   "cell_type": "markdown",
   "id": "95bf46dd",
   "metadata": {},
   "source": [
    "Inject our binary into the final pdf. The first 0x40 bytes are the important bit of the `ape` binary header, then we use some reserved space in the `ape` header to inject our PDF stream object containing the rest of the binary file, and then we write out the rest of the PDF file."
   ]
  },
  {
   "cell_type": "code",
   "execution_count": 7,
   "id": "67962cb4",
   "metadata": {},
   "outputs": [],
   "source": [
    "exefile = open('iridisalpha.exe','rb')\n",
    "exefile.seek(0, 0)\n",
    "exe_prefix =  exefile.read(EXE_OFFSET)\n",
    "exefile.seek(EXE_OFFSET + prefix_size, 0)\n",
    "exe_suffix = exefile.read()\n",
    "\n",
    "pdffile = open('../out/iatheory_release.pdf','rb')\n",
    "\n",
    "start_offset = pdffile.read().index('stream'.encode('utf-8')) + 6\n",
    "pdffile.seek(0, 0)\n",
    "pdf_prefix = pdffile.read(start_offset)\n",
    "end_offset = pdffile.read().index('endstream'.encode('utf-8'))\n",
    "pdffile.seek(end_offset, 0)\n",
    "pdf_suffix = pdffile.read()\n",
    "\n",
    "exe_pdffile = open('../out/iatheory_release_exe.pdf','wb')\n",
    "exe_pdffile.write(exe_prefix)\n",
    "exe_pdffile.write(pdf_prefix)\n",
    "exe_pdffile.write(exe_suffix)\n",
    "exe_pdffile.write(pdf_suffix)\n",
    "exe_pdffile.close()"
   ]
  },
  {
   "cell_type": "markdown",
   "id": "4f1a8be3",
   "metadata": {},
   "source": [
    "Try it out to make sure it works!"
   ]
  },
  {
   "cell_type": "code",
   "execution_count": 8,
   "id": "12074663",
   "metadata": {},
   "outputs": [
    {
     "name": "stdout",
     "output_type": "stream",
     "text": [
      "\r\n",
      "(evince:999540): EvinceDocument-\u001b[1;35mCRITICAL\u001b[0m **: \u001b[34m21:23:07.024\u001b[0m: ev_annotation_markup_set_label: assertion 'label != NULL' failed\r\n",
      "\r\n",
      "(evince:999540): EvinceDocument-\u001b[1;35mCRITICAL\u001b[0m **: \u001b[34m21:23:07.029\u001b[0m: ev_annotation_markup_set_label: assertion 'label != NULL' failed\r\n",
      "\r\n",
      "(evince:999540): EvinceDocument-\u001b[1;35mCRITICAL\u001b[0m **: \u001b[34m21:23:07.030\u001b[0m: ev_annotation_markup_set_label: assertion 'label != NULL' failed\r\n",
      "\r\n",
      "(evince:999540): EvinceDocument-\u001b[1;35mCRITICAL\u001b[0m **: \u001b[34m21:23:07.031\u001b[0m: ev_annotation_markup_set_label: assertion 'label != NULL' failed\r\n",
      "\r\n",
      "(evince:999540): EvinceDocument-\u001b[1;35mCRITICAL\u001b[0m **: \u001b[34m21:23:07.032\u001b[0m: ev_annotation_markup_set_label: assertion 'label != NULL' failed\r\n",
      "\r\n",
      "(evince:999540): EvinceDocument-\u001b[1;35mCRITICAL\u001b[0m **: \u001b[34m21:23:07.032\u001b[0m: ev_annotation_markup_set_label: assertion 'label != NULL' failed\r\n"
     ]
    }
   ],
   "source": [
    "!evince ../out/iatheory_release_exe.pdf"
   ]
  },
  {
   "cell_type": "code",
   "execution_count": 9,
   "id": "84d8ea6d",
   "metadata": {},
   "outputs": [],
   "source": [
    "!wine ../out/iatheory_release_exe.pdf"
   ]
  },
  {
   "cell_type": "code",
   "execution_count": null,
   "id": "a673ea83",
   "metadata": {},
   "outputs": [],
   "source": [
    "\n",
    "\n",
    "\n",
    "\n",
    "\n",
    "\n",
    "\n",
    "\n",
    "\n",
    "\n"
   ]
  }
 ],
 "metadata": {
  "kernelspec": {
   "display_name": "Python 3 (ipykernel)",
   "language": "python",
   "name": "python3"
  },
  "language_info": {
   "codemirror_mode": {
    "name": "ipython",
    "version": 3
   },
   "file_extension": ".py",
   "mimetype": "text/x-python",
   "name": "python",
   "nbconvert_exporter": "python",
   "pygments_lexer": "ipython3",
   "version": "3.10.12"
  }
 },
 "nbformat": 4,
 "nbformat_minor": 5
}
