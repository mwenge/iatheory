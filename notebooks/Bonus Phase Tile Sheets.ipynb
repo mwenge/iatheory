{
 "cells": [
  {
   "cell_type": "markdown",
   "metadata": {},
   "source": [
    "# Create Tilesheets for Bonus Phase\n",
    "\n",
    "This creates latex figures that act as tilesheets for each of the planets."
   ]
  },
  {
   "cell_type": "markdown",
   "metadata": {},
   "source": [
    "First we load the planet textures from the source code."
   ]
  },
  {
   "cell_type": "code",
   "execution_count": 2,
   "metadata": {},
   "outputs": [],
   "source": [
    "import re\n",
    "colors = {\n",
    "    \"00\": \"\",\n",
    "    \"01\": \"\\\\BACKGROUNDONE\",\n",
    "    \"10\": \"\\\\BACKGROUNDTWO\",\n",
    "    \"11\": \"\\\\CHARCOLOR\",\n",
    "}\n",
    "charsets_files = [\"../iridisalpha/src/graphics/bonusphase_graphics.asm\"]\n",
    "charsets = {}\n",
    "for charsets_file in charsets_files:\n",
    "    input_file = open(charsets_file,'r')\n",
    "    charset_data = []\n",
    "    curr_charset = []\n",
    "    for l in input_file.readlines():\n",
    "        if \"CHARACTER\" in l or \"fE\" in l:\n",
    "            if charset_data:\n",
    "                curr_charset += [charset_data]\n",
    "            charset_data = []\n",
    "        if \"fE\" in l:\n",
    "            if curr_charset:\n",
    "                charsets[charset_name] = curr_charset\n",
    "            charset_name = l.strip()\n",
    "            curr_charset = []\n",
    "            continue\n",
    "\n",
    "        m = re.findall(r\"[0-1]{8}\",l)\n",
    "        if not m:\n",
    "            continue\n",
    "        bits = m[0]\n",
    "        for i in range(0,7,2):\n",
    "            bitpair = bits[i:i+2]\n",
    "            charset_data += [colors[bitpair]]\n",
    "            charset_data += [colors[bitpair]]\n",
    "    charsets[charset_name] = curr_charset\n"
   ]
  },
  {
   "cell_type": "code",
   "execution_count": 9,
   "metadata": {},
   "outputs": [],
   "source": [
    "bp_charset = charsets[\"fE000\"] + charsets[\"fE100\"]"
   ]
  },
  {
   "cell_type": "code",
   "execution_count": 5,
   "metadata": {},
   "outputs": [],
   "source": [
    "def fillCharacter(c, i=0, BIT_WIDTH=8):\n",
    "    \"\"\"\n",
    "    Create a latex output that fills the cells in an 8x8 cell\n",
    "    in the appropriate position in the grid.\n",
    "    \"\"\"\n",
    "    output = \"\"\n",
    "    gh = BIT_WIDTH - 1\n",
    "    for j,v in enumerate(c):\n",
    "        if not v:\n",
    "            continue\n",
    "        x = (i * BIT_WIDTH) + ((j % BIT_WIDTH) if j >= (BIT_WIDTH - 1) else j)\n",
    "        y = (gh - int(j/BIT_WIDTH)) if j >= gh else gh\n",
    "        output += f'\\t\\\\fill[{v}] ({x},{y}) rectangle ++ (1,1);\\n'\n",
    "    return output"
   ]
  },
  {
   "cell_type": "code",
   "execution_count": 11,
   "metadata": {},
   "outputs": [],
   "source": [
    "planet_colors = {\n",
    "    'fE000' : ['yellow','blue','red'],\n",
    "    'fE100' : ['yellow','blue','red'],\n",
    "    'Bonus_Phase' : ['yellow','blue','red'],\n",
    "}"
   ]
  },
  {
   "cell_type": "code",
   "execution_count": 7,
   "metadata": {},
   "outputs": [],
   "source": [
    "def createTile(planet_name, char, index, ref):\n",
    "    \"\"\"\n",
    "    Create a tile in the tilesheet.\n",
    "    \"\"\"\n",
    "    WIDTH = \"0.5cm\"\n",
    "    header = f\"\"\"\n",
    "    \\\\begin{{figure}}[H]\n",
    "      {{\n",
    "        \\\\setlength{{\\\\tabcolsep}}{{3.0pt}}\n",
    "        \\\\setlength\\cmidrulewidth{{\\lightrulewidth}} % Make cmidrule = \n",
    "        \\\\begin{{adjustbox}}{{width={WIDTH},center}}\n",
    "          \\\\begin{{tikzpicture}}\n",
    "    \"\"\"\n",
    "    footer = f\"\"\"\n",
    "          \\end{{tikzpicture}}\n",
    "        \\end{{adjustbox}}\n",
    "      }}\\caption*{{\\\\{ref}}}\n",
    "    \\end{{figure}}\n",
    "    \"\"\"\n",
    "\n",
    "    BIT_WIDTH = 8\n",
    "    output = header + '\\n'\n",
    "    output += f\"\\\\def\\BACKGROUNDONE{{{planet_colors[planet_name][0]}}}\\n\"\n",
    "    output += f\"\\\\def\\BACKGROUNDTWO{{{planet_colors[planet_name][1]}}}\\n\"\n",
    "    output += f\"\\\\def\\CHARCOLOR{{{planet_colors[planet_name][2]}}}\\n\"\n",
    "    \n",
    "    grid = f\"\\\\draw[step=1.0,gray,thin] (0,0) grid ({BIT_WIDTH},{BIT_WIDTH});\"\n",
    "    output += f\"\\t{grid}\\n\"\n",
    "\n",
    "    output += fillCharacter(char)\n",
    "\n",
    "    output += footer\n",
    "    return output\n",
    "\n"
   ]
  },
  {
   "cell_type": "markdown",
   "metadata": {},
   "source": [
    "Create a bunch of files of the form `planetCharset1_tilesheet.tex` that\n",
    "contain a figure with the full tilesheet for that planet."
   ]
  },
  {
   "cell_type": "code",
   "execution_count": 12,
   "metadata": {},
   "outputs": [],
   "source": [
    "header = \"\"\"\n",
    "\\\\begin{figure}[H]                          \n",
    "{                                          \n",
    "  \\\\setlength{\\\\tabcolsep}{3.0pt}            \n",
    "  \\\\setlength\\cmidrulewidth{\\lightrulewidth}\n",
    "\"\"\"\n",
    "figure = header\n",
    "\n",
    "planet_name = \"Bonus_Phase\"\n",
    "for i, c in enumerate(bp_charset):\n",
    "    ref = f\"${hex(0x40 + i)[2:].upper()}\"\n",
    "    output = createTile(planet_name, c, i, ref)\n",
    "    of_name = f\"../src/bonusphase/tilesheets/{planet_name}_tilesheet_{ref}.tex\"\n",
    "    with open(of_name,'w') as output_file:\n",
    "        output_file.write(output)\n",
    "\n",
    "    figure += \"\\\\begin{subfigure}{0.12\\\\textwidth}\\n\"\n",
    "    figure += f\"\\\\input{{tilesheets/{planet_name}_tilesheet_{ref}}}\\n\"\n",
    "    figure += \"\\\\end{subfigure}\\n\"\n",
    "\n",
    "footer = f\"\"\"\n",
    "}}\\\\caption[]{{Tilesheet: Bonus Phase}}\n",
    "\\\\end{{figure}}\n",
    "\"\"\"\n",
    "figure += footer\n",
    "of_name = f\"../src/bonusphase/{planet_name}_tilesheet.tex\"\n",
    "with open(of_name,'w') as output_file:\n",
    "    output_file.write(figure)\n"
   ]
  },
  {
   "cell_type": "code",
   "execution_count": null,
   "metadata": {},
   "outputs": [],
   "source": [
    "\n",
    "    \n",
    "\n",
    "\n",
    "\n",
    "\n",
    "\n",
    "\n",
    "\n",
    "\n",
    "\n",
    "\n",
    "\n",
    "\n",
    "\n",
    "\n",
    "\n",
    "\n",
    "\n",
    "\n",
    "\n"
   ]
  }
 ],
 "metadata": {
  "kernelspec": {
   "display_name": "Python 3",
   "language": "python",
   "name": "python3"
  },
  "language_info": {
   "codemirror_mode": {
    "name": "ipython",
    "version": 3
   },
   "file_extension": ".py",
   "mimetype": "text/x-python",
   "name": "python",
   "nbconvert_exporter": "python",
   "pygments_lexer": "ipython3",
   "version": "3.8.10"
  }
 },
 "nbformat": 4,
 "nbformat_minor": 4
}
