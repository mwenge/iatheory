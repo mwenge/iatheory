{
 "cells": [
  {
   "cell_type": "code",
   "execution_count": 36,
   "id": "26c84ee5",
   "metadata": {},
   "outputs": [],
   "source": [
    "\"\"\"\n",
    "Pull out all the level data from the source files.\n",
    "\"\"\"\n",
    "files = [\"../iridisalpha/src/level_data/level_data.asm\",\n",
    "         \"../iridisalpha/src/level_data/level_data2.asm\"]\n",
    "d = {}\n",
    "level_data = {}\n",
    "ch = None\n",
    "ck = None\n",
    "for f in files:\n",
    "    ld = open(f, 'r')\n",
    "    while True:\n",
    "        l = ld.readline()\n",
    "        if not l:\n",
    "            break\n",
    "        if \"pieceOfPlanet\" in l:\n",
    "            continue\n",
    "        if l[:2].strip():\n",
    "            if ch and d:\n",
    "                level_data[ch] = d\n",
    "            ch = l.split()[0].strip()\n",
    "            d = {}\n",
    "            continue\n",
    "\n",
    "        k = l[10:17]\n",
    "        if \"Byte\" in k:\n",
    "            ck = k\n",
    "            continue\n",
    "\n",
    "        if \"BYTE\" in l:\n",
    "            v = l[14:].strip().split(',')[0].replace('<','')\n",
    "            d[ck] = v\n",
    "\n",
    "# Drop any spurious entries\n",
    "level_data = {k:c for k,c in level_data.items() if len(c) == 30}\n"
   ]
  },
  {
   "cell_type": "code",
   "execution_count": 37,
   "id": "c6a17631",
   "metadata": {},
   "outputs": [
    {
     "data": {
      "text/plain": [
       "[('flowchartArrowAsExplosion', 'Byte 32', '$60'),\n",
       " ('planet5Level12Data', 'Byte 32', 'planet5Level44thStage')]"
      ]
     },
     "execution_count": 37,
     "metadata": {},
     "output_type": "execute_result"
    }
   ],
   "source": [
    "b33 = [(k,b,v) \n",
    "       for k,bs in level_data.items()\n",
    "       for b,v in bs.items()\n",
    "       if b == \"Byte 32\" and v != '$00']\n",
    "b33"
   ]
  },
  {
   "cell_type": "code",
   "execution_count": 19,
   "id": "1ac00e35",
   "metadata": {},
   "outputs": [
    {
     "data": {
      "text/plain": [
       "[]"
      ]
     },
     "execution_count": 19,
     "metadata": {},
     "output_type": "execute_result"
    }
   ],
   "source": [
    "b615 = [(k,bs) \n",
    "       for k,bs in level_data.items()\n",
    "       if \"Byte 6 \" not in bs]\n",
    "b615"
   ]
  },
  {
   "cell_type": "code",
   "execution_count": 38,
   "id": "61abcdd9",
   "metadata": {},
   "outputs": [
    {
     "data": {
      "text/plain": [
       "[('planet5Level5Data', '$05', '$30'),\n",
       " ('fighterShipAsExplosion', '$01', '$10'),\n",
       " ('smallDotWaveData', '$01', '$20')]"
      ]
     },
     "execution_count": 38,
     "metadata": {},
     "output_type": "execute_result"
    }
   ],
   "source": [
    "b615 = [(k,bs[\"Byte 6 \"],bs[\"Byte 15\"]) \n",
    "       for k,bs in level_data.items()\n",
    "       if bs[\"Byte 6 \"] != '$00' and  bs[\"Byte 15\"] != '$00']\n",
    "b615"
   ]
  }
 ],
 "metadata": {
  "kernelspec": {
   "display_name": "Python 3",
   "language": "python",
   "name": "python3"
  },
  "language_info": {
   "codemirror_mode": {
    "name": "ipython",
    "version": 3
   },
   "file_extension": ".py",
   "mimetype": "text/x-python",
   "name": "python",
   "nbconvert_exporter": "python",
   "pygments_lexer": "ipython3",
   "version": "3.8.10"
  }
 },
 "nbformat": 4,
 "nbformat_minor": 5
}
