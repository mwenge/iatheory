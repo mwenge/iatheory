{
 "cells": [
  {
   "cell_type": "markdown",
   "metadata": {},
   "source": [
    "# Compare the tape binary with the reassembled binary"
   ]
  },
  {
   "cell_type": "code",
   "execution_count": 55,
   "metadata": {},
   "outputs": [],
   "source": [
    "mapping = {\n",
    "'019 (E000-F7FF).prg': [\n",
    "    ((0x02,0x802), (\"bonusphase_graphics.prg\", 0x02,0x802)), # End\n",
    "    ((0x801,0x169d), (\"ia.prg\", 0x10,0x0eac)),\n",
    "    ((0x169e,0x1801), (\"\",0,0)), # Junk Data\n",
    "    # End of prg\n",
    "],\n",
    "'010 (0800-BFFE).prg': [\n",
    "    ((0x42,0x111a), (\"enemy_sprites.prg\", 0x2,0x10da)), # End\n",
    "    ((0x1114,0xb801), (\"ia.prg\", 0x1113,0xb800)),\n",
    "    # End of prg\n",
    "],\n",
    "'013 (BF00-BFFF).prg': [\n",
    "    ((0x02,0x102), (\"ia.prg\", 0xb701,0xb801)),\n",
    "    # End of prg\n",
    "],\n",
    "'016 (C000-CFFE).prg': [\n",
    "    ((0x02,0xecd), (\"ia.prg\", 0xb801,0xc6cc)), # End of ia.prg\n",
    "    ((0xece,0x1000), (\"\",0,0)), # Looks like junk\n",
    "    # End of prg\n",
    "],\n",
    "}\n",
    "\n",
    "ia_mapping = {\n",
    "    (0x0800, \"Title Screen\"),\n",
    "    (0x0d55, \"DNA\"),\n",
    "    (0x149c, \"Title Music\"),\n",
    "    (0x16cf, \"Nothing\"),\n",
    "    (0x18c8, \"Level Data\"),\n",
    "    (0x2000, \"Current Planet Character Set\"),\n",
    "    (0x2800, \"Main Sprites\"),\n",
    "    (0x4000, \"Main Control Loop\"),\n",
    "    (0x40d3, \"Made in France\"),\n",
    "    (0x4788, \"Main Game Logic\"),\n",
    "    (0x7f08, \"Planet Surface Memory\"),\n",
    "    (0x9000, \"Planet Character Sets\"),\n",
    "    (0x9b00, \"Level Data\"),\n",
    "    (0xaac0, \"Bonus Phase\"),\n",
    "    (0xc800, \"Hi Score Table\"),\n",
    "    (0xcecc, \"Nothing\"),\n",
    "    (0xd000, \"System ROM\"),\n",
    "    (0xe000, \"Bonus Phase Graphics\"),\n",
    "    (0xe830, \"Enemy Sprites\"),\n",
    "}"
   ]
  },
  {
   "cell_type": "markdown",
   "metadata": {},
   "source": [
    "Compare the tape binary with the reassembled one. There are differences because the reassembled one is based on a disassembly of a memory dump from Vice. So some variables no longer have their initial values."
   ]
  },
  {
   "cell_type": "code",
   "execution_count": 61,
   "metadata": {},
   "outputs": [
    {
     "name": "stdout",
     "output_type": "stream",
     "text": [
      "Success\n",
      "019 (E000-F7FF).prg ../iridisalpha/bin/ia.prg 3740 3740 [('0x856', 0, '0x65', 2), ('0x9a1', 238, '0x1b0', 58), ('0x9a2', 114, '0x1b1', 26), ('0x9a3', 52, '0x1b2', 196), ('0x9a4', 35, '0x1b3', 27), ('0x9a5', 168, '0x1b4', 148), ('0x9a6', 179, '0x1b5', 123), ('0x9a7', 74, '0x1b6', 150), ('0x9a8', 221, '0x1b7', 93), ('0x9a9', 83, '0x1b8', 79), ('0x9aa', 101, '0x1b9', 181), ('0x9ab', 36, '0x1ba', 24), ('0x9ac', 71, '0x1bb', 199), ('0x9ad', 57, '0x1bc', 225), ('0x9ae', 239, '0x1bd', 235), ('0x9af', 86, '0x1be', 74), ('0x9b0', 147, '0x1bf', 143), ('0x9b1', 50, '0x1c0', 218), ('0x9b2', 151, '0x1c1', 131), ('0x9b3', 218, '0x1c2', 106), ('0x9b4', 32, '0x1c3', 176), ('0x9b5', 52, '0x1c4', 252), ('0x9b6', 24, '0x1c5', 104), ('0x9b7', 16, '0x1c6', 4), ('0x9b8', 72, '0x1c7', 16), ('0x9b9', 118, '0x1c8', 6), ('0x9ba', 87, '0x1c9', 167), ('0x9bb', 16, '0x1ca', 184), ('0x9bc', 153, '0x1cb', 25), ('0x9bd', 243, '0x1cc', 187), ('0x9be', 152, '0x1cd', 228), ('0x9bf', 0, '0x1ce', 2), ('0x9c0', 1, '0x1cf', 2), ('0x9c2', 1, '0x1d1', 3), ('0x9c3', 1, '0x1d2', 5), ('0x9c4', 1, '0x1d3', 2), ('0x9c5', 1, '0x1d4', 2), ('0x9c6', 0, '0x1d5', 1), ('0x9c7', 0, '0x1d6', 1), ('0x9c8', 0, '0x1d7', 1), ('0x9c9', 1, '0x1d8', 3), ('0x9cc', 0, '0x1db', 1), ('0x9cd', 1, '0x1dc', 3), ('0x9ce', 0, '0x1dd', 1), ('0x9d0', 0, '0x1df', 4), ('0x9d1', 1, '0x1e0', 2), ('0x9d4', 0, '0x1e3', 1), ('0x9d5', 0, '0x1e4', 2), ('0x9d6', 0, '0x1e5', 1), ('0x9d7', 1, '0x1e6', 2), ('0x9d8', 0, '0x1e7', 1), ('0x9da', 0, '0x1e9', 1), ('0x9db', 1, '0x1ea', 2), ('0x9dc', 1, '0x1eb', 2), ('0xa08', 4, '0x217', 1), ('0xa0c', 2, '0x21b', 1), ('0xa0d', 3, '0x21c', 1), ('0xa0e', 4, '0x21d', 1), ('0xa0f', 3, '0x21e', 7), ('0xa12', 4, '0x221', 2), ('0xa13', 3, '0x222', 7), ('0xa16', 4, '0x225', 2), ('0xa19', 2, '0x228', 1), ('0xa1c', 3, '0x22b', 1), ('0xa1e', 3, '0x22d', 1), ('0xa1f', 4, '0x22e', 2), ('0xa23', 2, '0x232', 6), ('0xa24', 3, '0x233', 1), ('0xa25', 4, '0x234', 1), ('0xa31', 0, '0x240', 7), ('0xa32', 0, '0x241', 5), ('0xa33', 0, '0x242', 14), ('0xa35', 0, '0x244', 2), ('0xa36', 0, '0x245', 8), ('0xa37', 1, '0x246', 4), ('0xb1e', 0, '0x32d', 1), ('0xb9e', 208, '0x3ad', 178), ('0xb9f', 200, '0x3ae', 182), ('0xba0', 193, '0x3af', 187), ('0xba1', 187, '0x3b0', 193), ('0xba2', 182, '0x3b1', 208), ('0xba3', 178, '0x3b2', 200), ('0xba4', 175, '0x3b3', 193), ('0xba5', 16, '0x3b4', 84), ('0xba6', 20, '0x3b5', 88), ('0xba7', 24, '0x3b6', 92), ('0xba8', 28, '0x3b7', 96), ('0xba9', 32, '0x3b8', 100), ('0xbaa', 36, '0x3b9', 104), ('0xbab', 40, '0x3ba', 108), ('0xbac', 8, '0x3bb', 252), ('0xbad', 7, '0x3bc', 251), ('0xbae', 6, '0x3bd', 250), ('0xbaf', 5, '0x3be', 249), ('0xbb0', 4, '0x3bf', 8), ('0xbb1', 3, '0x3c0', 7), ('0xbb2', 2, '0x3c1', 6), ('0x14e7', 1, '0xcf6', 37), ('0x14e8', 1, '0xcf7', 133), ('0x14ea', 0, '0xcf9', 1), ('0x14eb', 0, '0xcfa', 2), ('0x14ec', 0, '0xcfb', 2), ('0x14ed', 0, '0xcfc', 14), ('0x14ee', 0, '0xcfd', 7), ('0x14ef', 0, '0xcfe', 14)]\n",
      "Success\n",
      "010 (0800-BFFE).prg ../iridisalpha/bin/ia.prg 42733 42733 [('0x6553', 255, '0x6552', 0), ('0x717f', 0, '0x717e', 1), ('0xa2e3', 4, '0xa2e2', 0), ('0xacbf', 240, '0xacbe', 255), ('0xacc0', 255, '0xacbf', 240)]\n",
      "Success\n",
      "Success\n"
     ]
    }
   ],
   "source": [
    "def compareChunks(chunk1, chunk1_start, chunk2, chunk2_start):\n",
    "    diffs = []\n",
    "    for i,b1 in enumerate(chunk1):\n",
    "        b2 = chunk2[i]\n",
    "        if b1 != b2:\n",
    "            diffs += [(hex(chunk1_start+i), b1, hex(chunk2_start+i), b2)]\n",
    "    return diffs\n",
    "\n",
    "for fname in mapping:\n",
    "    full_fname = \"tape/\" + fname\n",
    "    tape_data = bytearray(open(full_fname, 'rb').read())\n",
    "    chunks = mapping[fname]\n",
    "    for (chunk_start, chunk_end),(ia_fname, ia_chunk_start,ia_chunk_end) in chunks:\n",
    "        tape_chunk = tape_data[chunk_start:chunk_end]\n",
    "        if not ia_fname:\n",
    "            continue\n",
    "        ia_fname = \"../iridisalpha/bin/\" + ia_fname\n",
    "        ia_data = bytearray(open(ia_fname, 'rb').read())\n",
    "        ia_chunk = ia_data[ia_chunk_start: ia_chunk_end]\n",
    "        if ia_chunk != tape_chunk:\n",
    "            print(fname, ia_fname,\n",
    "                  (chunk_end - chunk_start),  (ia_chunk_end - ia_chunk_start),\n",
    "                  compareChunks(tape_chunk, chunk_start, ia_chunk, ia_chunk_start))\n",
    "        else:\n",
    "            print(\"Success\")\n",
    "\n"
   ]
  }
 ],
 "metadata": {
  "kernelspec": {
   "display_name": "Python 3 (ipykernel)",
   "language": "python",
   "name": "python3"
  },
  "language_info": {
   "codemirror_mode": {
    "name": "ipython",
    "version": 3
   },
   "file_extension": ".py",
   "mimetype": "text/x-python",
   "name": "python",
   "nbconvert_exporter": "python",
   "pygments_lexer": "ipython3",
   "version": "3.10.12"
  }
 },
 "nbformat": 4,
 "nbformat_minor": 4
}
