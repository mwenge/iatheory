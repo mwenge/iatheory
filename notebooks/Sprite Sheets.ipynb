{
 "cells": [
  {
   "cell_type": "code",
   "execution_count": 4,
   "metadata": {},
   "outputs": [],
   "source": [
    "import re\n",
    "colors = {\n",
    "    \"00\": \"\",\n",
    "    \"01\": \"\\\\MULTICOLORONE\",\n",
    "    \"10\": \"\\\\SPRITECOLOR\",\n",
    "    \"11\": \"\\\\MULTICOLORTWO\",\n",
    "}\n",
    "sprites_files = [\"../iridisalpha/src/graphics/sprites.asm\",\n",
    "                 \"../iridisalpha/src/graphics/enemy_sprites.asm\",\n",
    "                \"../iridisalpha/src/graphics/bonusphase_sprites.asm\",]\n",
    "sprites = {}\n",
    "for sprites_file in sprites_files:\n",
    "    input_file = open(sprites_file,'r')\n",
    "    sprite_data = []\n",
    "    for l in input_file.readlines():\n",
    "        if \"SPRITE\" in l:\n",
    "            if sprite_data:\n",
    "                sprites[sprite_name] = sprite_data\n",
    "            sprite_name = l[22:].strip()\n",
    "            sprite_data = []\n",
    "            continue\n",
    "\n",
    "        m = re.findall(r\"[0-1]{24}\",l)\n",
    "        if not m:\n",
    "            continue\n",
    "        bits = m[0]\n",
    "        for i in range(0,23,2):\n",
    "            bitpair = bits[i:i+2]\n",
    "            sprite_data += [colors[bitpair]]\n",
    "            sprite_data += [colors[bitpair]]\n",
    "sprites[sprite_name] = sprite_data\n"
   ]
  },
  {
   "cell_type": "code",
   "execution_count": 2,
   "metadata": {},
   "outputs": [],
   "source": [
    "\n",
    "header = \"\"\"\n",
    "\\\\begin{figure}[H]\n",
    "  {\n",
    "    \\\\setlength{\\\\tabcolsep}{3.0pt}\n",
    "    \\\\setlength\\cmidrulewidth{\\heavyrulewidth} % Make cmidrule = \n",
    "    \\\\begin{adjustbox}{width=3cm,center}\n",
    "      \\\\begin{tikzpicture}\n",
    "\"\"\"\n",
    "\n",
    "footer = \"\"\"\n",
    "      \\\\end{tikzpicture}\n",
    "    \\\\end{adjustbox}\n",
    "  }\\\\caption{%SPRITE_NAME%}\n",
    "\\\\end{figure}\n",
    "\"\"\""
   ]
  },
  {
   "cell_type": "code",
   "execution_count": 5,
   "metadata": {},
   "outputs": [],
   "source": [
    "\n",
    "def createLatexSpriteGrid(sprite_name):\n",
    "    gl = 24\n",
    "    gh = 21\n",
    "    glc = gl - 1\n",
    "    ghc = gh - 1\n",
    "    \n",
    "    sp = sprites[sprite_name]\n",
    "    sl = len(sp)\n",
    "    output = header + '\\n'\n",
    "    grid = f\"\\\\draw[step=1.0,gray,thin] (0,0) grid ({gl},{gh});\"\n",
    "    output += f\"\\t{grid}\\n\"\n",
    "    for i,v in enumerate(sp):\n",
    "        x = (i % gl) if i >= glc else i\n",
    "        y = (ghc - int(i/gl)) if i >= ghc else ghc\n",
    "        if not v:\n",
    "            continue\n",
    "        output += f'\\t\\\\fill[{v}] ({x},{y}) rectangle ++ (1,1);\\n'\n",
    "    output += footer.replace(\"%SPRITE_NAME%\", sprite_name.replace(\"_\",\"\\_\"))\n",
    "    return output\n",
    "\n",
    "#names = [\"FLYING_SAUCER1\",\"FLYING_SAUCER2\",\"FLYING_SAUCER3\"]\n",
    "for nm in sprites:\n",
    "    output = createLatexSpriteGrid(nm)\n",
    "    output_file = open(f\"../src/sprites/{nm}.tex\",'w')\n",
    "    output_file.write(output)\n",
    "    output_file.close()"
   ]
  }
 ],
 "metadata": {
  "kernelspec": {
   "display_name": "Python 3",
   "language": "python",
   "name": "python3"
  },
  "language_info": {
   "codemirror_mode": {
    "name": "ipython",
    "version": 3
   },
   "file_extension": ".py",
   "mimetype": "text/x-python",
   "name": "python",
   "nbconvert_exporter": "python",
   "pygments_lexer": "ipython3",
   "version": "3.8.10"
  }
 },
 "nbformat": 4,
 "nbformat_minor": 4
}
