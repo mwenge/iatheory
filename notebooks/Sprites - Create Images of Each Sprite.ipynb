{
 "cells": [
  {
   "cell_type": "markdown",
   "metadata": {},
   "source": [
    "# Create Images of Sprites"
   ]
  },
  {
   "cell_type": "markdown",
   "metadata": {},
   "source": [
    "Load in the sprite data"
   ]
  },
  {
   "cell_type": "code",
   "execution_count": 3,
   "metadata": {},
   "outputs": [],
   "source": [
    "import re\n",
    "sprites_files = [\"../iridisalpha/src/graphics/sprites.asm\",\n",
    "                 \"../iridisalpha/src/graphics/bonusphase_sprites.asm\",\n",
    "                 \"../iridisalpha/src/graphics/enemy_sprites.asm\"]\n",
    "sprites_data = {}\n",
    "for sprites_file in sprites_files:\n",
    "    input_file = open(sprites_file,'r')\n",
    "    sprite_data = []\n",
    "    for l in input_file.readlines():\n",
    "        if \"SPRITE\" in l:\n",
    "            if sprite_data:\n",
    "                sprites_data[sprite_name] = sprite_data\n",
    "            sprite_name = l[18:20].strip().lower()\n",
    "            sprite_data = []\n",
    "            continue\n",
    "\n",
    "        m = re.findall(r\"[0-1]{24}\",l)\n",
    "        if not m:\n",
    "            continue\n",
    "        bits = m[0]\n",
    "        sprite_line = []\n",
    "        for i in range(0,23,2):\n",
    "            bitpair = bits[i:i+2]\n",
    "            sprite_line += [bitpair]\n",
    "            sprite_line += [bitpair]\n",
    "        sprite_data += [sprite_line]\n",
    "    if sprite_data:\n",
    "        sprites_data[sprite_name] = sprite_data\n"
   ]
  },
  {
   "cell_type": "markdown",
   "metadata": {},
   "source": [
    "Get the color data from the sprite movements file"
   ]
  },
  {
   "cell_type": "code",
   "execution_count": 27,
   "metadata": {},
   "outputs": [],
   "source": [
    "import gzip\n",
    "log_file = \"IridisAlphaTitleEnemySpriteMovements.txt.gz\"\n",
    "input_file = gzip.open(log_file,'rt')\n",
    "\n",
    "movements = [ [] for _ in range(8) ]\n",
    "for l in input_file.readlines():\n",
    "    # the x and y co-ords for each sprite\n",
    "    if \"C:d000\" in l:\n",
    "        s = l[9:59]\n",
    "        s = s.replace(' ',',').replace(',,',',')\n",
    "        s = s.split(',')\n",
    "        co_ords = [(int(s[i],16), int(s[i+1],16)) for i in range(0,len(s),2)]\n",
    "        continue\n",
    "\n",
    "    # sprite_colors\n",
    "    if \"C:d025\" in l:\n",
    "        s = l[9:40]\n",
    "        s = s.replace(' ',',').replace(',,',',')\n",
    "        sprite_colors_array = s.split(',')\n",
    "        multi_color0 = sprite_colors_array[0]\n",
    "        multi_color1 = sprite_colors_array[1]\n",
    "        sprite_colors = sprite_colors_array[2:]\n",
    "        continue\n",
    "\n",
    "    # the most significant bit for each sprite's x co-ord\n",
    "    if \"C:d010\" in l:\n",
    "        msb = int(l[9:11],16)\n",
    "        continue\n",
    "\n",
    "    # The current sprite value\n",
    "    if \"C:07f8\" in l:\n",
    "        s = l[9:33]\n",
    "        s = s.replace(' ',',').replace(',,',',')\n",
    "        sprite_values = s.split(',')\n",
    "        continue\n",
    "        \n",
    "    # current planet\n",
    "    # change back to 78b0 in unmodified rom\n",
    "    if \"C:78b3\" in l:\n",
    "        planet = int(l[9:11],16)\n",
    "        continue\n",
    "\n",
    "    # current level\n",
    "    # 49c6 in unmodified rom\n",
    "    if not \"C:49c9\" in l:\n",
    "        continue\n",
    "    s = l[9:33]\n",
    "    s = s.replace(' ',',').replace(',,',',')\n",
    "    levels = s.split(',')\n",
    "    level = int(levels[planet],16)\n",
    "\n",
    "    # Add the most significant bit to each sprite's x value\n",
    "    for i,v in enumerate([1,2,4,8,16,32,64,128]):\n",
    "        if msb & v:\n",
    "            x,y = co_ords[i]\n",
    "            co_ords[i] = (x+256,y)\n",
    "\n",
    "    for i, spr in enumerate(sprite_values):\n",
    "        movements[i] += [(sprite_values[i], co_ords[i], (planet,level),\n",
    "                         (multi_color0,multi_color1,sprite_colors[i]))]\n"
   ]
  },
  {
   "cell_type": "markdown",
   "metadata": {},
   "source": [
    "Function for actually drawing the sprite"
   ]
  },
  {
   "cell_type": "code",
   "execution_count": 34,
   "metadata": {},
   "outputs": [],
   "source": [
    "from PIL import Image, ImageColor\n",
    "\n",
    "def paintSprite(origin, pixels, sprite, colors):\n",
    "    multicol0, multicol1,color = colors\n",
    "    colormap = {\n",
    "        \"01\": multicol0,\n",
    "        \"10\": color,\n",
    "        \"11\": multicol1,\n",
    "    }\n",
    "    \n",
    "    x_o, y_o = origin\n",
    "    if sprite not in sprites_data:\n",
    "        print(sprite)\n",
    "        return\n",
    "    bit_array = sprites_data[sprite]\n",
    "    for y, l in enumerate(bit_array):\n",
    "        for x,bit in enumerate(l):\n",
    "            if bit == \"00\":\n",
    "                continue\n",
    "            pixel_color = ImageColor.getrgb(fhex_to_rgb[colormap[bit]])\n",
    "            pixels[x_o+x, y_o+y] = pixel_color\n",
    "\n"
   ]
  },
  {
   "cell_type": "markdown",
   "metadata": {},
   "source": [
    "Write out the sprites to image files"
   ]
  },
  {
   "cell_type": "code",
   "execution_count": 49,
   "metadata": {},
   "outputs": [],
   "source": [
    "import os\n",
    "from collections import defaultdict\n",
    "from sprite_map import sprite_map \n",
    "from colors_map import *\n",
    "\n",
    "bits=8\n",
    "width = 24\n",
    "height = 21\n",
    "\n",
    "for j, mvt in enumerate(movements):\n",
    "    for i,(sprite, _origin, (_planet,_level), colors) in enumerate(mvt):\n",
    "        if sprite not in sprite_map:\n",
    "            continue\n",
    "        sprite_name = sprite_map[sprite]\n",
    "        fname = f'sprites/sprite_{sprite_name}_{\"\".join(colors)}.png'\n",
    "        if os.path.isfile(fname):\n",
    "            continue\n",
    "        img = Image.new( 'RGBA', (width,height))\n",
    "        pixels = img.load()\n",
    "        origin = (0,0)\n",
    "        paintSprite(origin, pixels, sprite, colors)\n",
    "        img = img.resize((img.width * 10, img.height * 10), Image.NEAREST)\n",
    "        img.save(fname)\n",
    "\n"
   ]
  },
  {
   "cell_type": "code",
   "execution_count": null,
   "metadata": {},
   "outputs": [],
   "source": [
    "\n",
    "\n",
    "\n",
    "\n",
    "\n",
    "\n",
    "\n",
    "\n",
    "\n",
    "\n",
    "\n",
    "\n",
    "\n",
    "\n",
    "\n",
    "\n",
    "\n",
    "\n",
    "\n",
    "\n",
    "\n",
    "\n",
    "\n",
    "\n",
    "\n",
    "\n"
   ]
  }
 ],
 "metadata": {
  "kernelspec": {
   "display_name": "Python 3",
   "language": "python",
   "name": "python3"
  },
  "language_info": {
   "codemirror_mode": {
    "name": "ipython",
    "version": 3
   },
   "file_extension": ".py",
   "mimetype": "text/x-python",
   "name": "python",
   "nbconvert_exporter": "python",
   "pygments_lexer": "ipython3",
   "version": "3.8.10"
  }
 },
 "nbformat": 4,
 "nbformat_minor": 4
}
